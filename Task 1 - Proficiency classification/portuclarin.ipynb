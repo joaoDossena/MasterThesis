{
 "cells": [
  {
   "cell_type": "code",
   "execution_count": 1,
   "metadata": {},
   "outputs": [
    {
     "name": "stdout",
     "output_type": "stream",
     "text": [
      "Defaulting to user installation because normal site-packages is not writeable\n",
      "Requirement already satisfied: datasets in /home/joao/.local/lib/python3.10/site-packages (2.7.0)\n",
      "Requirement already satisfied: packaging in /usr/lib/python3.10/site-packages (from datasets) (21.3)\n",
      "Requirement already satisfied: aiohttp in /usr/lib/python3.10/site-packages (from datasets) (3.8.3)\n",
      "Requirement already satisfied: pyarrow>=6.0.0 in /home/joao/.local/lib/python3.10/site-packages (from datasets) (10.0.0)\n",
      "Requirement already satisfied: dill<0.3.7 in /home/joao/.local/lib/python3.10/site-packages (from datasets) (0.3.6)\n",
      "Requirement already satisfied: multiprocess in /home/joao/.local/lib/python3.10/site-packages (from datasets) (0.70.14)\n",
      "Requirement already satisfied: requests>=2.19.0 in /usr/lib/python3.10/site-packages (from datasets) (2.28.1)\n",
      "Requirement already satisfied: huggingface-hub<1.0.0,>=0.2.0 in /home/joao/.local/lib/python3.10/site-packages (from datasets) (0.11.0)\n",
      "Requirement already satisfied: xxhash in /home/joao/.local/lib/python3.10/site-packages (from datasets) (3.1.0)\n",
      "Requirement already satisfied: fsspec[http]>=2021.11.1 in /home/joao/.local/lib/python3.10/site-packages (from datasets) (2022.11.0)\n",
      "Requirement already satisfied: pandas in /home/joao/.local/lib/python3.10/site-packages (from datasets) (1.5.1)\n",
      "Requirement already satisfied: tqdm>=4.62.1 in /home/joao/.local/lib/python3.10/site-packages (from datasets) (4.64.1)\n",
      "Requirement already satisfied: responses<0.19 in /home/joao/.local/lib/python3.10/site-packages (from datasets) (0.18.0)\n",
      "Requirement already satisfied: numpy>=1.17 in /home/joao/.local/lib/python3.10/site-packages (from datasets) (1.23.5)\n",
      "Requirement already satisfied: pyyaml>=5.1 in /usr/lib/python3.10/site-packages (from datasets) (6.0)\n",
      "Requirement already satisfied: attrs>=17.3.0 in /usr/lib/python3.10/site-packages (from aiohttp->datasets) (22.1.0)\n",
      "Requirement already satisfied: multidict<7.0,>=4.5 in /usr/lib/python3.10/site-packages (from aiohttp->datasets) (6.0.2)\n",
      "Requirement already satisfied: frozenlist>=1.1.1 in /usr/lib/python3.10/site-packages (from aiohttp->datasets) (1.3.1)\n",
      "Requirement already satisfied: aiosignal>=1.1.2 in /usr/lib/python3.10/site-packages (from aiohttp->datasets) (1.2.0)\n",
      "Requirement already satisfied: async-timeout<5.0,>=4.0.0a3 in /usr/lib/python3.10/site-packages (from aiohttp->datasets) (4.0.2)\n",
      "Requirement already satisfied: charset-normalizer<3.0,>=2.0 in /home/joao/.local/lib/python3.10/site-packages (from aiohttp->datasets) (2.1.1)\n",
      "Requirement already satisfied: yarl<2.0,>=1.0 in /usr/lib/python3.10/site-packages (from aiohttp->datasets) (1.8.1)\n",
      "Requirement already satisfied: filelock in /home/joao/.local/lib/python3.10/site-packages (from huggingface-hub<1.0.0,>=0.2.0->datasets) (3.6.0)\n",
      "Requirement already satisfied: typing-extensions>=3.7.4.3 in /usr/lib/python3.10/site-packages (from huggingface-hub<1.0.0,>=0.2.0->datasets) (4.4.0)\n",
      "Requirement already satisfied: pyparsing!=3.0.5,>=2.0.2 in /usr/lib/python3.10/site-packages (from packaging->datasets) (3.0.9)\n",
      "Requirement already satisfied: idna<4,>=2.5 in /usr/lib/python3.10/site-packages (from requests>=2.19.0->datasets) (3.4)\n",
      "Requirement already satisfied: urllib3<1.27,>=1.21.1 in /usr/lib/python3.10/site-packages (from requests>=2.19.0->datasets) (1.26.12)\n",
      "Requirement already satisfied: python-dateutil>=2.8.1 in /usr/lib/python3.10/site-packages (from pandas->datasets) (2.8.2)\n",
      "Requirement already satisfied: pytz>=2020.1 in /usr/lib/python3.10/site-packages (from pandas->datasets) (2022.6)\n",
      "Requirement already satisfied: six>=1.5 in /usr/lib/python3.10/site-packages (from python-dateutil>=2.8.1->pandas->datasets) (1.16.0)\n",
      "Defaulting to user installation because normal site-packages is not writeable\n",
      "Requirement already satisfied: evaluate in /home/joao/.local/lib/python3.10/site-packages (0.3.0)\n",
      "Requirement already satisfied: numpy>=1.17 in /home/joao/.local/lib/python3.10/site-packages (from evaluate) (1.23.5)\n",
      "Requirement already satisfied: fsspec[http]>=2021.05.0 in /home/joao/.local/lib/python3.10/site-packages (from evaluate) (2022.11.0)\n",
      "Requirement already satisfied: pandas in /home/joao/.local/lib/python3.10/site-packages (from evaluate) (1.5.1)\n",
      "Requirement already satisfied: dill in /home/joao/.local/lib/python3.10/site-packages (from evaluate) (0.3.6)\n",
      "Requirement already satisfied: datasets>=2.0.0 in /home/joao/.local/lib/python3.10/site-packages (from evaluate) (2.7.0)\n",
      "Requirement already satisfied: xxhash in /home/joao/.local/lib/python3.10/site-packages (from evaluate) (3.1.0)\n",
      "Requirement already satisfied: huggingface-hub>=0.7.0 in /home/joao/.local/lib/python3.10/site-packages (from evaluate) (0.11.0)\n",
      "Requirement already satisfied: responses<0.19 in /home/joao/.local/lib/python3.10/site-packages (from evaluate) (0.18.0)\n",
      "Requirement already satisfied: requests>=2.19.0 in /usr/lib/python3.10/site-packages (from evaluate) (2.28.1)\n",
      "Requirement already satisfied: tqdm>=4.62.1 in /home/joao/.local/lib/python3.10/site-packages (from evaluate) (4.64.1)\n",
      "Requirement already satisfied: packaging in /usr/lib/python3.10/site-packages (from evaluate) (21.3)\n",
      "Requirement already satisfied: multiprocess in /home/joao/.local/lib/python3.10/site-packages (from evaluate) (0.70.14)\n",
      "Requirement already satisfied: pyyaml>=5.1 in /usr/lib/python3.10/site-packages (from datasets>=2.0.0->evaluate) (6.0)\n",
      "Requirement already satisfied: aiohttp in /usr/lib/python3.10/site-packages (from datasets>=2.0.0->evaluate) (3.8.3)\n",
      "Requirement already satisfied: pyarrow>=6.0.0 in /home/joao/.local/lib/python3.10/site-packages (from datasets>=2.0.0->evaluate) (10.0.0)\n",
      "Requirement already satisfied: filelock in /home/joao/.local/lib/python3.10/site-packages (from huggingface-hub>=0.7.0->evaluate) (3.6.0)\n",
      "Requirement already satisfied: typing-extensions>=3.7.4.3 in /usr/lib/python3.10/site-packages (from huggingface-hub>=0.7.0->evaluate) (4.4.0)\n",
      "Requirement already satisfied: pyparsing!=3.0.5,>=2.0.2 in /usr/lib/python3.10/site-packages (from packaging->evaluate) (3.0.9)\n",
      "Requirement already satisfied: idna<4,>=2.5 in /usr/lib/python3.10/site-packages (from requests>=2.19.0->evaluate) (3.4)\n",
      "Requirement already satisfied: urllib3<1.27,>=1.21.1 in /usr/lib/python3.10/site-packages (from requests>=2.19.0->evaluate) (1.26.12)\n",
      "Requirement already satisfied: python-dateutil>=2.8.1 in /usr/lib/python3.10/site-packages (from pandas->evaluate) (2.8.2)\n",
      "Requirement already satisfied: pytz>=2020.1 in /usr/lib/python3.10/site-packages (from pandas->evaluate) (2022.6)\n",
      "Requirement already satisfied: aiosignal>=1.1.2 in /usr/lib/python3.10/site-packages (from aiohttp->datasets>=2.0.0->evaluate) (1.2.0)\n",
      "Requirement already satisfied: yarl<2.0,>=1.0 in /usr/lib/python3.10/site-packages (from aiohttp->datasets>=2.0.0->evaluate) (1.8.1)\n",
      "Requirement already satisfied: charset-normalizer<3.0,>=2.0 in /home/joao/.local/lib/python3.10/site-packages (from aiohttp->datasets>=2.0.0->evaluate) (2.1.1)\n",
      "Requirement already satisfied: multidict<7.0,>=4.5 in /usr/lib/python3.10/site-packages (from aiohttp->datasets>=2.0.0->evaluate) (6.0.2)\n",
      "Requirement already satisfied: async-timeout<5.0,>=4.0.0a3 in /usr/lib/python3.10/site-packages (from aiohttp->datasets>=2.0.0->evaluate) (4.0.2)\n",
      "Requirement already satisfied: frozenlist>=1.1.1 in /usr/lib/python3.10/site-packages (from aiohttp->datasets>=2.0.0->evaluate) (1.3.1)\n",
      "Requirement already satisfied: attrs>=17.3.0 in /usr/lib/python3.10/site-packages (from aiohttp->datasets>=2.0.0->evaluate) (22.1.0)\n",
      "Requirement already satisfied: six>=1.5 in /usr/lib/python3.10/site-packages (from python-dateutil>=2.8.1->pandas->evaluate) (1.16.0)\n"
     ]
    },
    {
     "name": "stderr",
     "output_type": "stream",
     "text": [
      "2022-12-19 15:38:58.824466: I tensorflow/core/platform/cpu_feature_guard.cc:193] This TensorFlow binary is optimized with oneAPI Deep Neural Network Library (oneDNN) to use the following CPU instructions in performance-critical operations:  AVX2 FMA\n",
      "To enable them in other operations, rebuild TensorFlow with the appropriate compiler flags.\n",
      "2022-12-19 15:38:59.910108: W tensorflow/compiler/xla/stream_executor/platform/default/dso_loader.cc:64] Could not load dynamic library 'libnvinfer.so.7'; dlerror: libnvinfer.so.7: cannot open shared object file: No such file or directory\n",
      "2022-12-19 15:38:59.910163: W tensorflow/compiler/xla/stream_executor/platform/default/dso_loader.cc:64] Could not load dynamic library 'libnvinfer_plugin.so.7'; dlerror: libnvinfer_plugin.so.7: cannot open shared object file: No such file or directory\n",
      "2022-12-19 15:38:59.910192: W tensorflow/compiler/tf2tensorrt/utils/py_utils.cc:38] TF-TRT Warning: Cannot dlopen some TensorRT libraries. If you would like to use Nvidia GPU with TensorRT, please make sure the missing libraries mentioned above are installed properly.\n"
     ]
    }
   ],
   "source": [
    "!pip install datasets\n",
    "!pip install evaluate\n",
    "import json\n",
    "import requests\n",
    "import pandas as pd\n",
    "import numpy as np\n",
    "from datasets import load_dataset\n",
    "import evaluate\n",
    "from tqdm.auto import tqdm\n",
    "from sklearn.preprocessing import StandardScaler\n",
    "from sklearn.svm import SVC\n",
    "from sklearn.metrics import confusion_matrix\n",
    "from sklearn.metrics import precision_score, recall_score, f1_score, accuracy_score\n",
    "import matplotlib.pyplot as plt"
   ]
  },
  {
   "cell_type": "code",
   "execution_count": 2,
   "metadata": {},
   "outputs": [],
   "source": [
    "key = '265cc97a8fc6bb1b657b3969b673f19f'\n",
    "format = 'text' \n",
    "url = \"https://portulanclarin.net/workbench/lx-proficiency/api/\""
   ]
  },
  {
   "cell_type": "code",
   "execution_count": 3,
   "metadata": {},
   "outputs": [
    {
     "name": "stderr",
     "output_type": "stream",
     "text": [
      "Using custom data configuration default-697819366a407adc\n",
      "Found cached dataset csv (/home/joao/.cache/huggingface/datasets/csv/default-697819366a407adc/0.0.0/6b34fb8fcf56f7c8ba51dc895bfa2bfbe43546f190a60fcf74bb5e8afdcc2317)\n"
     ]
    },
    {
     "name": "stdout",
     "output_type": "stream",
     "text": [
      "['A2', 'B1', 'B2', 'A1', 'C1']\n"
     ]
    }
   ],
   "source": [
    "raw_test_dataset = load_dataset('csv', data_files='cople_ortho.csv', split='train[90%:]')\n",
    "labels = pd.read_csv('cople_ortho.csv')['Proficiency'].unique().tolist()\n",
    "print(labels)"
   ]
  },
  {
   "cell_type": "code",
   "execution_count": 4,
   "metadata": {},
   "outputs": [],
   "source": [
    "labels.append(\"C2\")"
   ]
  },
  {
   "cell_type": "code",
   "execution_count": 5,
   "metadata": {},
   "outputs": [
    {
     "name": "stdout",
     "output_type": "stream",
     "text": [
      "Dataset({\n",
      "    features: ['Id', 'Proficiency', 'Text'],\n",
      "    num_rows: 102\n",
      "})\n"
     ]
    }
   ],
   "source": [
    "print(raw_test_dataset)"
   ]
  },
  {
   "cell_type": "code",
   "execution_count": 6,
   "metadata": {},
   "outputs": [],
   "source": [
    "def class_string_to_int(s):\n",
    "    if s == 'A1':\n",
    "        return 0\n",
    "    if s == 'A2':\n",
    "        return 1\n",
    "    if s == 'B1':\n",
    "        return 2\n",
    "    if s == 'B2':\n",
    "        return 3\n",
    "    if s == 'C1':\n",
    "        return 4\n",
    "    if s == 'C2':\n",
    "        return 5\n",
    "    else:\n",
    "        return 404"
   ]
  },
  {
   "cell_type": "code",
   "execution_count": 7,
   "metadata": {},
   "outputs": [
    {
     "name": "stderr",
     "output_type": "stream",
     "text": [
      "Loading cached processed dataset at /home/joao/.cache/huggingface/datasets/csv/default-697819366a407adc/0.0.0/6b34fb8fcf56f7c8ba51dc895bfa2bfbe43546f190a60fcf74bb5e8afdcc2317/cache-812182a302a3b013.arrow\n"
     ]
    }
   ],
   "source": [
    "def tokenize_function(example):\n",
    "    example['labels'] = [class_string_to_int(proficiency) for proficiency in example['Proficiency']]\n",
    "    return example\n",
    "\n",
    "test_datasets = raw_test_dataset.map(tokenize_function, batched=True)"
   ]
  },
  {
   "cell_type": "code",
   "execution_count": 8,
   "metadata": {},
   "outputs": [
    {
     "name": "stdout",
     "output_type": "stream",
     "text": [
      "Dataset({\n",
      "    features: ['Id', 'Proficiency', 'Text', 'labels'],\n",
      "    num_rows: 102\n",
      "})\n"
     ]
    }
   ],
   "source": [
    "print(test_datasets)"
   ]
  },
  {
   "cell_type": "code",
   "execution_count": 9,
   "metadata": {},
   "outputs": [
    {
     "data": {
      "application/vnd.jupyter.widget-view+json": {
       "model_id": "4b9c15ceccfe4a0aa22c201ee59cd914",
       "version_major": 2,
       "version_minor": 0
      },
      "text/plain": [
       "  0%|          | 0/102 [00:00<?, ?it/s]"
      ]
     },
     "metadata": {},
     "output_type": "display_data"
    },
    {
     "name": "stdout",
     "output_type": "stream",
     "text": [
      "Error for id zh129CAMTF: {'code': -32000, 'message': 'Server error', 'data': {'type': 'WebServiceException', 'args': ['There was an error while processing your request. Try again later or contact us at helpdesk.'], 'message': 'There was an error while processing your request. Try again later or contact us at helpdesk.'}}\n",
      "Error for id zh064CAETF: {'code': -32000, 'message': 'Server error', 'data': {'type': 'WebServiceException', 'args': ['There was an error while processing your request. Try again later or contact us at helpdesk.'], 'message': 'There was an error while processing your request. Try again later or contact us at helpdesk.'}}\n"
     ]
    }
   ],
   "source": [
    "predictions_df = []\n",
    "progress_bar = tqdm(range(len(test_datasets)))\n",
    "errors = []\n",
    "for entry in test_datasets:\n",
    "    text = entry['Text']\n",
    "    request_data = {\n",
    "        'method': 'analyse',\n",
    "        'jsonrpc': '2.0',\n",
    "        'id': 0,\n",
    "        'params': {\n",
    "            'text': text,\n",
    "            'format': format,\n",
    "            'key': key,\n",
    "        },\n",
    "    }\n",
    "    request = requests.post(url, json=request_data)\n",
    "    response_data = request.json()\n",
    "    if \"error\" in response_data:\n",
    "        print(f\"Error for id {entry['Id']}:\", response_data[\"error\"])\n",
    "        errors.append(entry)\n",
    "        continue\n",
    "    else:\n",
    "        entry['prediction'] = class_string_to_int(response_data[\"result\"].split(\"\\n\")[4][-2:])\n",
    "        predictions_df.append([entry['Id'], entry['prediction'], entry['labels']])\n",
    "    progress_bar.update(1)"
   ]
  },
  {
   "cell_type": "code",
   "execution_count": 10,
   "metadata": {},
   "outputs": [
    {
     "name": "stdout",
     "output_type": "stream",
     "text": [
      "100\n",
      "2\n",
      "['es007CVMTD', 1, 2]\n"
     ]
    }
   ],
   "source": [
    "print(len(predictions_df))\n",
    "print(len(errors))\n",
    "print(predictions_df[0])"
   ]
  },
  {
   "cell_type": "code",
   "execution_count": 11,
   "metadata": {},
   "outputs": [
    {
     "data": {
      "text/plain": [
       "[{'Id': 'zh129CAMTF',\n",
       "  'Proficiency': 'B1',\n",
       "  'Text': 'Se eu pertencesse ao grupo Show Me Lisbon, iria fazer muitas coisas para melhorar este grupo. Primeiro, enriqueceria os pacotes de turismo. Acrescentaria Bairro Alto, que é uma zona muito popular entre os jovens portugueses e, de facto, um lugar frequentado pelos locais em vez de turistas. Claro que antes de partir, ensinaria algumas frases de cumprimento em português. Graças ao meu colega turco, experimentámos um restaurante fabuloso turco. Por isso, recomendaria ao meu cliente este restaurante. Embora não seja um restaurante português, é sempre bom experimentar novidades. A cultura de café português também é muito famosa. Eu e o meu cliente iríamos a um cafeteria/café portuguesa /português, tomaríamos um café, olharíamos as pessoas que estão em pé em frente do balcão, rindo, que conversando, falando. É muito giro. Além de enriquecer os pacotes, também faria mais propagandas. Deixaria mais panfletos no hostel, no hotel, no aeroporto e nos pontos de interesse. Claro que poderia e deveria amplificar este programa para Show Me Porto, até Show Me Portugal.',\n",
       "  'labels': 2},\n",
       " {'Id': 'zh064CAETF',\n",
       "  'Proficiency': 'A2',\n",
       "  'Text': 'vertentehumana@sapo.pt\\n\\nanúncio de emprego no dia 22 de Maio\\n\\nExel. Sr./Sra,\\n\\nO anúncio de emprego no dia 22 de Maio no Jornal Comércio parece-me muito interessante porque eu sou professora de chinês, que mora em Lisboa e tenho muitas experiências de ensinar chinês para alunos portugueses e de ser tradutora. Eu posso falar e escrever inglês muito bem e gosto de aproveitar as novas tecnologias, computadores e jogos. Além disso, posso trabalhar ao fim de semana especialmente. Acho que sou óptima para esta posição e vou ser uma boa emprega na funcionária da sua empresa. Mas faça o favor de me dizer, se possível, o horário de trabalho, o vencimento e a experiência necessária porque queria saber mais informações sobre a sua empresa e não queria perder esta oportunidade tão especial para mim. Muito obrigada e bom dia!\\n\\nAté logo,\\n\\nFF.',\n",
       "  'labels': 1}]"
      ]
     },
     "execution_count": 11,
     "metadata": {},
     "output_type": "execute_result"
    }
   ],
   "source": [
    "errors"
   ]
  },
  {
   "cell_type": "code",
   "execution_count": 16,
   "metadata": {},
   "outputs": [],
   "source": [
    "text = \"anúncio de emprego no dia 22 de Maio. Exel. Sr.,O anúncio de emprego no dia 22 de Maio no Jornal Comércio parece-me muito interessante porque eu sou professora de chinês, que mora em Lisboa e tenho muitas experiências de ensinar chinês para alunos portugueses e de ser tradutora. Eu posso falar e escrever inglês muito bem e gosto de aproveitar as novas tecnologias, computadores e jogos. Além disso, posso trabalhar ao fim de semana especialmente. Acho que sou óptima para esta posição e vou ser uma boa emprega na funcionária da sua empresa. Mas faça o favor de me dizer, se possível, o horário de trabalho, o vencimento e a experiência necessária porque queria saber mais informações sobre a sua empresa e não queria perder esta oportunidade tão especial para mim. Muito obrigada e bom dia!Até logo, FF.\"\n",
    "request_data = {\n",
    "    'method': 'analyse',\n",
    "    'jsonrpc': '2.0',\n",
    "    'id': 0,\n",
    "    'params': {\n",
    "        'text': text,\n",
    "        'format': format,\n",
    "        'key': key,\n",
    "    },\n",
    "}\n",
    "request = requests.post(url, json=request_data)\n",
    "response_data = request.json()\n",
    "if \"error\" in response_data:\n",
    "    print(f\"Error for id: \", response_data[\"error\"])\n",
    "    errors.append(entry)\n",
    "else:\n",
    "    pred = class_string_to_int(response_data[\"result\"].split(\"\\n\")[4][-2:])\n",
    "    predictions_df.append([\"zh064CAETF\", pred, 1])"
   ]
  },
  {
   "cell_type": "code",
   "execution_count": 20,
   "metadata": {},
   "outputs": [
    {
     "data": {
      "text/plain": [
       "1.0"
      ]
     },
     "execution_count": 20,
     "metadata": {},
     "output_type": "execute_result"
    }
   ],
   "source": [
    "len(predictions_df)/102"
   ]
  },
  {
   "cell_type": "code",
   "execution_count": 21,
   "metadata": {},
   "outputs": [],
   "source": [
    "df = pd.DataFrame(predictions_df, columns=['Id', 'Predictions', 'labels'])"
   ]
  },
  {
   "cell_type": "code",
   "execution_count": 22,
   "metadata": {},
   "outputs": [
    {
     "name": "stdout",
     "output_type": "stream",
     "text": [
      "Key status:\n",
      "{\n",
      "    \"requests_remaining\": 99588,\n",
      "    \"chars_remaining\": 99605089,\n",
      "    \"expiry\": \"2023-01-11T19:01+00:00\"\n",
      "}\n"
     ]
    }
   ],
   "source": [
    "# Getting acess key status:\n",
    "request_data = {\n",
    "    'method': 'key_status',\n",
    "    'jsonrpc': '2.0',\n",
    "    'id': 0,\n",
    "    'params': {\n",
    "        'key': key,\n",
    "    },\n",
    "}\n",
    "request = requests.post(url, json=request_data)\n",
    "response_data = request.json()\n",
    "if \"error\" in response_data:\n",
    "    print(\"Error:\", response_data[\"error\"])\n",
    "else:\n",
    "    print(\"Key status:\")\n",
    "    print(json.dumps(response_data[\"result\"], indent=4))"
   ]
  },
  {
   "cell_type": "code",
   "execution_count": 23,
   "metadata": {
    "scrolled": true
   },
   "outputs": [
    {
     "data": {
      "text/html": [
       "<div>\n",
       "<style scoped>\n",
       "    .dataframe tbody tr th:only-of-type {\n",
       "        vertical-align: middle;\n",
       "    }\n",
       "\n",
       "    .dataframe tbody tr th {\n",
       "        vertical-align: top;\n",
       "    }\n",
       "\n",
       "    .dataframe thead th {\n",
       "        text-align: right;\n",
       "    }\n",
       "</style>\n",
       "<table border=\"1\" class=\"dataframe\">\n",
       "  <thead>\n",
       "    <tr style=\"text-align: right;\">\n",
       "      <th></th>\n",
       "      <th>Id</th>\n",
       "      <th>Predictions</th>\n",
       "      <th>labels</th>\n",
       "    </tr>\n",
       "  </thead>\n",
       "  <tbody>\n",
       "    <tr>\n",
       "      <th>0</th>\n",
       "      <td>es007CVMTD</td>\n",
       "      <td>1</td>\n",
       "      <td>2</td>\n",
       "    </tr>\n",
       "    <tr>\n",
       "      <th>1</th>\n",
       "      <td>ru022CVMTF_2</td>\n",
       "      <td>2</td>\n",
       "      <td>2</td>\n",
       "    </tr>\n",
       "    <tr>\n",
       "      <th>2</th>\n",
       "      <td>fr034CVMTF</td>\n",
       "      <td>4</td>\n",
       "      <td>2</td>\n",
       "    </tr>\n",
       "    <tr>\n",
       "      <th>3</th>\n",
       "      <td>de037CVSTF</td>\n",
       "      <td>4</td>\n",
       "      <td>4</td>\n",
       "    </tr>\n",
       "    <tr>\n",
       "      <th>4</th>\n",
       "      <td>de013CVITI</td>\n",
       "      <td>0</td>\n",
       "      <td>0</td>\n",
       "    </tr>\n",
       "  </tbody>\n",
       "</table>\n",
       "</div>"
      ],
      "text/plain": [
       "             Id  Predictions  labels\n",
       "0    es007CVMTD            1       2\n",
       "1  ru022CVMTF_2            2       2\n",
       "2    fr034CVMTF            4       2\n",
       "3    de037CVSTF            4       4\n",
       "4    de013CVITI            0       0"
      ]
     },
     "execution_count": 23,
     "metadata": {},
     "output_type": "execute_result"
    }
   ],
   "source": [
    "df.head()"
   ]
  },
  {
   "cell_type": "code",
   "execution_count": 24,
   "metadata": {},
   "outputs": [],
   "source": [
    "def class_int_to_str(number):\n",
    "    if number == 0:\n",
    "        return 'A1'\n",
    "    if number == 1:\n",
    "        return 'A2'\n",
    "    if number == 2:\n",
    "        return 'B1'\n",
    "    if number == 3:\n",
    "        return 'B2'\n",
    "    if number == 4:\n",
    "        return 'C1'\n",
    "    if number == 5:\n",
    "        return 'C2'\n",
    "    else:\n",
    "        return 'Error'"
   ]
  },
  {
   "cell_type": "code",
   "execution_count": 28,
   "metadata": {},
   "outputs": [
    {
     "name": "stderr",
     "output_type": "stream",
     "text": [
      "/tmp/ipykernel_3857/1990019565.py:9: UserWarning: FixedFormatter should only be used together with FixedLocator\n",
      "  ax.set_xticklabels(['', 'A1', 'A2', 'B1', 'B2', 'C1', 'C2'])\n",
      "/tmp/ipykernel_3857/1990019565.py:10: UserWarning: FixedFormatter should only be used together with FixedLocator\n",
      "  ax.set_yticklabels(['', 'A1', 'A2', 'B1', 'B2', 'C1', 'C2'])\n"
     ]
    },
    {
     "data": {
      "image/png": "[encoded data removed]",
      "text/plain": [
       "<Figure size 500x500 with 1 Axes>"
      ]
     },
     "metadata": {},
     "output_type": "display_data"
    }
   ],
   "source": [
    "conf_matrix = confusion_matrix(y_true=df['labels'], y_pred=df['Predictions'])\n",
    "\n",
    "fig, ax = plt.subplots(figsize=(5, 5))\n",
    "ax.matshow(conf_matrix, cmap=plt.cm.Oranges, alpha=0.3)\n",
    "for i in range(conf_matrix.shape[0]):\n",
    "    for j in range(conf_matrix.shape[1]):\n",
    "        ax.text(x=j, y=i,s=conf_matrix[i, j], va='center', ha='center', size='xx-large')\n",
    "\n",
    "ax.set_xticklabels(['', 'A1', 'A2', 'B1', 'B2', 'C1', 'C2'])\n",
    "ax.set_yticklabels(['', 'A1', 'A2', 'B1', 'B2', 'C1', 'C2'])\n",
    "plt.xlabel('Predictions', fontsize=18)\n",
    "plt.ylabel('Actuals', fontsize=18)\n",
    "plt.title('Confusion Matrix', fontsize=18)\n",
    "plt.show()"
   ]
  },
  {
   "cell_type": "code",
   "execution_count": 29,
   "metadata": {},
   "outputs": [
    {
     "name": "stdout",
     "output_type": "stream",
     "text": [
      "Accuracy: 0.412\n",
      "Precision: 0.491\n",
      "Recall: 0.412\n",
      "F1 Score: 0.401\n"
     ]
    }
   ],
   "source": [
    "print('Accuracy: %.3f' % accuracy_score(df['labels'], df['Predictions']))\n",
    "print('Precision: %.3f' % precision_score(df['labels'], df['Predictions'], average='weighted'))\n",
    "print('Recall: %.3f' % recall_score(df['labels'], df['Predictions'], average='weighted'))\n",
    "print('F1 Score: %.3f' % f1_score(df['labels'], df['Predictions'], average='weighted'))"
   ]
  },
  {
   "cell_type": "code",
   "execution_count": 30,
   "metadata": {},
   "outputs": [],
   "source": [
    "df.to_csv(\"portulan_clarin_predictions_cople_last_10%.csv\")"
   ]
  }
 ],
 "metadata": {
  "kernelspec": {
   "display_name": "Python 3 (ipykernel)",
   "language": "python",
   "name": "python3"
  },
  "language_info": {
   "codemirror_mode": {
    "name": "ipython",
    "version": 3
   },
   "file_extension": ".py",
   "mimetype": "text/x-python",
   "name": "python",
   "nbconvert_exporter": "python",
   "pygments_lexer": "ipython3",
   "version": "3.10.10"
  }
 },
 "nbformat": 4,
 "nbformat_minor": 2
}
