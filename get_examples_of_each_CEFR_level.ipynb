{
 "cells": [
  {
   "cell_type": "code",
   "execution_count": 9,
   "id": "74b23980-2121-47a1-ac7b-cec00b2bd951",
   "metadata": {},
   "outputs": [],
   "source": [
    "import pandas as pd\n",
    "import random"
   ]
  },
  {
   "cell_type": "code",
   "execution_count": 3,
   "id": "0b4eb146-7723-41b8-8e9e-63e4488fd872",
   "metadata": {},
   "outputs": [
    {
     "data": {
      "text/html": [
       "<div>\n",
       "<style scoped>\n",
       "    .dataframe tbody tr th:only-of-type {\n",
       "        vertical-align: middle;\n",
       "    }\n",
       "\n",
       "    .dataframe tbody tr th {\n",
       "        vertical-align: top;\n",
       "    }\n",
       "\n",
       "    .dataframe thead th {\n",
       "        text-align: right;\n",
       "    }\n",
       "</style>\n",
       "<table border=\"1\" class=\"dataframe\">\n",
       "  <thead>\n",
       "    <tr style=\"text-align: right;\">\n",
       "      <th></th>\n",
       "      <th>Unnamed: 0</th>\n",
       "      <th>ID-PT</th>\n",
       "      <th>PT</th>\n",
       "      <th>ID-EN</th>\n",
       "      <th>EN</th>\n",
       "      <th>Pred</th>\n",
       "      <th>Pred_CEFR</th>\n",
       "    </tr>\n",
       "  </thead>\n",
       "  <tbody>\n",
       "    <tr>\n",
       "      <th>0</th>\n",
       "      <td>0</td>\n",
       "      <td>146680</td>\n",
       "      <td>Uma menina chorando abriu a porta.</td>\n",
       "      <td>267881</td>\n",
       "      <td>A crying girl opened the door.</td>\n",
       "      <td>1</td>\n",
       "      <td>A2</td>\n",
       "    </tr>\n",
       "    <tr>\n",
       "      <th>1</th>\n",
       "      <td>1</td>\n",
       "      <td>180624</td>\n",
       "      <td>Vamos tentar alguma coisa!</td>\n",
       "      <td>1276</td>\n",
       "      <td>Let's try something.</td>\n",
       "      <td>1</td>\n",
       "      <td>A2</td>\n",
       "    </tr>\n",
       "    <tr>\n",
       "      <th>2</th>\n",
       "      <td>2</td>\n",
       "      <td>182184</td>\n",
       "      <td>Preciso ir dormir.</td>\n",
       "      <td>1277</td>\n",
       "      <td>I have to go to sleep.</td>\n",
       "      <td>1</td>\n",
       "      <td>A2</td>\n",
       "    </tr>\n",
       "    <tr>\n",
       "      <th>3</th>\n",
       "      <td>3</td>\n",
       "      <td>182184</td>\n",
       "      <td>Preciso ir dormir.</td>\n",
       "      <td>2047094</td>\n",
       "      <td>I need to go to sleep.</td>\n",
       "      <td>1</td>\n",
       "      <td>A2</td>\n",
       "    </tr>\n",
       "    <tr>\n",
       "      <th>4</th>\n",
       "      <td>4</td>\n",
       "      <td>182185</td>\n",
       "      <td>O sinal '&amp;' significa 'e'.</td>\n",
       "      <td>74007</td>\n",
       "      <td>The sign '&amp;' stands for 'and'.</td>\n",
       "      <td>1</td>\n",
       "      <td>A2</td>\n",
       "    </tr>\n",
       "    <tr>\n",
       "      <th>...</th>\n",
       "      <td>...</td>\n",
       "      <td>...</td>\n",
       "      <td>...</td>\n",
       "      <td>...</td>\n",
       "      <td>...</td>\n",
       "      <td>...</td>\n",
       "      <td>...</td>\n",
       "    </tr>\n",
       "    <tr>\n",
       "      <th>273709</th>\n",
       "      <td>273709</td>\n",
       "      <td>11539347</td>\n",
       "      <td>Agora sabemos quais são as regras.</td>\n",
       "      <td>6003854</td>\n",
       "      <td>We now know what the rules are.</td>\n",
       "      <td>1</td>\n",
       "      <td>A2</td>\n",
       "    </tr>\n",
       "    <tr>\n",
       "      <th>273710</th>\n",
       "      <td>273710</td>\n",
       "      <td>11539553</td>\n",
       "      <td>Qual é a conclusão?</td>\n",
       "      <td>11539548</td>\n",
       "      <td>What is the conclusion?</td>\n",
       "      <td>1</td>\n",
       "      <td>A2</td>\n",
       "    </tr>\n",
       "    <tr>\n",
       "      <th>273711</th>\n",
       "      <td>273711</td>\n",
       "      <td>11539664</td>\n",
       "      <td>Tenho uma pequena observação a fazer sobre o t...</td>\n",
       "      <td>11539646</td>\n",
       "      <td>I have a little remark on the text.</td>\n",
       "      <td>1</td>\n",
       "      <td>A2</td>\n",
       "    </tr>\n",
       "    <tr>\n",
       "      <th>273712</th>\n",
       "      <td>273712</td>\n",
       "      <td>11539685</td>\n",
       "      <td>Eu não acho que fazer aquilo é uma boa ideia.</td>\n",
       "      <td>7227375</td>\n",
       "      <td>I don't think doing that is a good idea.</td>\n",
       "      <td>1</td>\n",
       "      <td>A2</td>\n",
       "    </tr>\n",
       "    <tr>\n",
       "      <th>273713</th>\n",
       "      <td>273713</td>\n",
       "      <td>11539688</td>\n",
       "      <td>Não acho que fazer aquilo é uma boa ideia.</td>\n",
       "      <td>7227375</td>\n",
       "      <td>I don't think doing that is a good idea.</td>\n",
       "      <td>1</td>\n",
       "      <td>A2</td>\n",
       "    </tr>\n",
       "  </tbody>\n",
       "</table>\n",
       "<p>273714 rows × 7 columns</p>\n",
       "</div>"
      ],
      "text/plain": [
       "        Unnamed: 0     ID-PT  \\\n",
       "0                0    146680   \n",
       "1                1    180624   \n",
       "2                2    182184   \n",
       "3                3    182184   \n",
       "4                4    182185   \n",
       "...            ...       ...   \n",
       "273709      273709  11539347   \n",
       "273710      273710  11539553   \n",
       "273711      273711  11539664   \n",
       "273712      273712  11539685   \n",
       "273713      273713  11539688   \n",
       "\n",
       "                                                       PT     ID-EN  \\\n",
       "0                      Uma menina chorando abriu a porta.    267881   \n",
       "1                              Vamos tentar alguma coisa!      1276   \n",
       "2                                      Preciso ir dormir.      1277   \n",
       "3                                      Preciso ir dormir.   2047094   \n",
       "4                              O sinal '&' significa 'e'.     74007   \n",
       "...                                                   ...       ...   \n",
       "273709                 Agora sabemos quais são as regras.   6003854   \n",
       "273710                                Qual é a conclusão?  11539548   \n",
       "273711  Tenho uma pequena observação a fazer sobre o t...  11539646   \n",
       "273712      Eu não acho que fazer aquilo é uma boa ideia.   7227375   \n",
       "273713         Não acho que fazer aquilo é uma boa ideia.   7227375   \n",
       "\n",
       "                                              EN  Pred Pred_CEFR  \n",
       "0                 A crying girl opened the door.     1        A2  \n",
       "1                           Let's try something.     1        A2  \n",
       "2                         I have to go to sleep.     1        A2  \n",
       "3                         I need to go to sleep.     1        A2  \n",
       "4                 The sign '&' stands for 'and'.     1        A2  \n",
       "...                                          ...   ...       ...  \n",
       "273709           We now know what the rules are.     1        A2  \n",
       "273710                   What is the conclusion?     1        A2  \n",
       "273711       I have a little remark on the text.     1        A2  \n",
       "273712  I don't think doing that is a good idea.     1        A2  \n",
       "273713  I don't think doing that is a good idea.     1        A2  \n",
       "\n",
       "[273714 rows x 7 columns]"
      ]
     },
     "execution_count": 3,
     "metadata": {},
     "output_type": "execute_result"
    }
   ],
   "source": [
    "df = pd.read_csv(\"./VSC/tatoeba_with_preds.csv\")\n",
    "df"
   ]
  },
  {
   "cell_type": "code",
   "execution_count": 22,
   "id": "ef5a14d8-6f6a-4eef-99a9-5fe866e5f829",
   "metadata": {},
   "outputs": [
    {
     "data": {
      "text/plain": [
       "Unnamed: 0                           229596\n",
       "ID-PT                               9079561\n",
       "PT            Nós já conhecemos todo mundo.\n",
       "ID-EN                               9043985\n",
       "EN              We've already met everyone.\n",
       "Pred                                      0\n",
       "Pred_CEFR                                A1\n",
       "Name: 229596, dtype: object"
      ]
     },
     "execution_count": 22,
     "metadata": {},
     "output_type": "execute_result"
    }
   ],
   "source": [
    "a1 = df.loc[df[\"Pred_CEFR\"] == \"A1\"]"
   ]
  },
  {
   "cell_type": "code",
   "execution_count": 25,
   "id": "a5e404d7-55cf-412d-87eb-1e604b7e1b45",
   "metadata": {},
   "outputs": [
    {
     "data": {
      "text/plain": [
       "Unnamed: 0                               217095\n",
       "ID-PT                                   6062004\n",
       "PT                Eu sei que você tem namorado.\n",
       "ID-EN                                   7519310\n",
       "EN            I know that you have a boyfriend.\n",
       "Pred                                          0\n",
       "Pred_CEFR                                    A1\n",
       "Name: 217095, dtype: object"
      ]
     },
     "execution_count": 25,
     "metadata": {},
     "output_type": "execute_result"
    }
   ],
   "source": [
    "a1.iloc[random.randint(0, len(a1))]"
   ]
  },
  {
   "cell_type": "code",
   "execution_count": 26,
   "id": "b70932e6-24e3-4f16-a5c9-cfba063b828e",
   "metadata": {},
   "outputs": [],
   "source": [
    "a2 = df.loc[df[\"Pred_CEFR\"] == \"A2\"]"
   ]
  },
  {
   "cell_type": "code",
   "execution_count": 43,
   "id": "199925ff-c31f-4daf-8e7f-fc6edf49b17b",
   "metadata": {},
   "outputs": [
    {
     "name": "stdout",
     "output_type": "stream",
     "text": [
      "PT: Onde você encontrou o gato deles?\n",
      "EN: Where did you find their cat?\n",
      "CEFR: A2\n"
     ]
    }
   ],
   "source": [
    "rand = random.randint(0, len(a2))\n",
    "print(f\"PT: {a2.iloc[rand]['PT']}\")\n",
    "print(f\"EN: {a2.iloc[rand]['EN']}\")\n",
    "print(f\"CEFR: {a2.iloc[rand]['Pred_CEFR']}\")"
   ]
  },
  {
   "cell_type": "code",
   "execution_count": 31,
   "id": "896c5468-9704-40fc-a9f6-8eb9d978478b",
   "metadata": {},
   "outputs": [],
   "source": [
    "b1 = df.loc[df[\"Pred_CEFR\"] == \"B1\"]"
   ]
  },
  {
   "cell_type": "code",
   "execution_count": 48,
   "id": "2d690779-eac7-4360-9a6b-328dad1290b6",
   "metadata": {},
   "outputs": [
    {
     "name": "stdout",
     "output_type": "stream",
     "text": [
      "PT: Se me deres a maçã, Helena, a mais bela dentre todas as mulheres, será tua.\n",
      "EN: If you give me the apple, Helen, more beautiful than all other women, will be yours.\n",
      "CEFR: B1\n"
     ]
    }
   ],
   "source": [
    "rand = random.randint(0, len(b1))\n",
    "print(f\"PT: {b1.iloc[rand]['PT']}\")\n",
    "print(f\"EN: {b1.iloc[rand]['EN']}\")\n",
    "print(f\"CEFR: {b1.iloc[rand]['Pred_CEFR']}\")"
   ]
  },
  {
   "cell_type": "code",
   "execution_count": 49,
   "id": "c8b48a2e-476f-4ab8-a795-c1d537d63049",
   "metadata": {},
   "outputs": [],
   "source": [
    "b2 = df.loc[df[\"Pred_CEFR\"] == \"B2\"]"
   ]
  },
  {
   "cell_type": "code",
   "execution_count": 53,
   "id": "9ba93eb1-4ff3-40f6-adc4-0c59276843c2",
   "metadata": {},
   "outputs": [
    {
     "name": "stdout",
     "output_type": "stream",
     "text": [
      "PT: Você tem certeza de que os seus pais o deixarão ir?\n",
      "EN: Are you sure your parents will allow you to go?\n",
      "CEFR: B2\n"
     ]
    }
   ],
   "source": [
    "rand = random.randint(0, len(b2))\n",
    "print(f\"PT: {b2.iloc[rand]['PT']}\")\n",
    "print(f\"EN: {b2.iloc[rand]['EN']}\")\n",
    "print(f\"CEFR: {b2.iloc[rand]['Pred_CEFR']}\")"
   ]
  },
  {
   "cell_type": "code",
   "execution_count": 54,
   "id": "bf3a3d45-d4bc-4f21-90f8-1b8f2acd7c12",
   "metadata": {},
   "outputs": [],
   "source": [
    "c1 = df.loc[df[\"Pred_CEFR\"] == \"C1\"]"
   ]
  },
  {
   "cell_type": "code",
   "execution_count": 58,
   "id": "d7eecac2-816e-4947-8cd3-dc8f132ded64",
   "metadata": {},
   "outputs": [
    {
     "name": "stdout",
     "output_type": "stream",
     "text": [
      "PT: Elas prestaram bastante atenção às suas palavras.\n",
      "EN: They paid his words a great deal of attention.\n",
      "CEFR: C1\n"
     ]
    }
   ],
   "source": [
    "rand = random.randint(0, len(c1))\n",
    "print(f\"PT: {c1.iloc[rand]['PT']}\")\n",
    "print(f\"EN: {c1.iloc[rand]['EN']}\")\n",
    "print(f\"CEFR: {c1.iloc[rand]['Pred_CEFR']}\")"
   ]
  },
  {
   "cell_type": "code",
   "execution_count": 59,
   "id": "34bc4bc0-5406-4347-8f09-55038eb06e27",
   "metadata": {},
   "outputs": [
    {
     "data": {
      "text/html": [
       "<div>\n",
       "<style scoped>\n",
       "    .dataframe tbody tr th:only-of-type {\n",
       "        vertical-align: middle;\n",
       "    }\n",
       "\n",
       "    .dataframe tbody tr th {\n",
       "        vertical-align: top;\n",
       "    }\n",
       "\n",
       "    .dataframe thead th {\n",
       "        text-align: right;\n",
       "    }\n",
       "</style>\n",
       "<table border=\"1\" class=\"dataframe\">\n",
       "  <thead>\n",
       "    <tr style=\"text-align: right;\">\n",
       "      <th></th>\n",
       "      <th>Unnamed: 0</th>\n",
       "      <th>ID-PT</th>\n",
       "      <th>PT</th>\n",
       "      <th>ID-EN</th>\n",
       "      <th>EN</th>\n",
       "      <th>Pred</th>\n",
       "      <th>Pred_CEFR</th>\n",
       "    </tr>\n",
       "  </thead>\n",
       "  <tbody>\n",
       "  </tbody>\n",
       "</table>\n",
       "</div>"
      ],
      "text/plain": [
       "Empty DataFrame\n",
       "Columns: [Unnamed: 0, ID-PT, PT, ID-EN, EN, Pred, Pred_CEFR]\n",
       "Index: []"
      ]
     },
     "execution_count": 59,
     "metadata": {},
     "output_type": "execute_result"
    }
   ],
   "source": [
    "c2 = df.loc[df[\"Pred_CEFR\"] == \"C2\"]\n",
    "c2"
   ]
  }
 ],
 "metadata": {
  "kernelspec": {
   "display_name": "Python 3 (ipykernel)",
   "language": "python",
   "name": "python3"
  },
  "language_info": {
   "codemirror_mode": {
    "name": "ipython",
    "version": 3
   },
   "file_extension": ".py",
   "mimetype": "text/x-python",
   "name": "python",
   "nbconvert_exporter": "python",
   "pygments_lexer": "ipython3",
   "version": "3.11.3"
  }
 },
 "nbformat": 4,
 "nbformat_minor": 5
}
